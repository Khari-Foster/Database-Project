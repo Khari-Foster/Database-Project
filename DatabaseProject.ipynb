{
 "cells": [
  {
   "cell_type": "code",
   "execution_count": 1,
   "metadata": {},
   "outputs": [
    {
     "name": "stdout",
     "output_type": "stream",
     "text": [
      "Hello World\n"
     ]
    }
   ],
   "source": [
    "print(\"Hello World\")"
   ]
  },
  {
   "cell_type": "code",
   "execution_count": 8,
   "metadata": {},
   "outputs": [
    {
     "name": "stdout",
     "output_type": "stream",
     "text": [
      "2.6.0\n",
      "2.6.0\n"
     ]
    }
   ],
   "source": [
    "import sqlite3\n",
    "from sqlite3 import Error\n",
    "\n",
    "def create_connection(db_file):\n",
    "    conn = None\n",
    "    try:\n",
    "        conn = sqlite3.connect(db_file)\n",
    "        print(sqlite3.version)\n",
    "    except Error as e:\n",
    "        print(e)\n",
    "\n",
    "    return conn\n",
    "\n",
    "def create_table(conn, create_table_sql):\n",
    "\n",
    "    try:\n",
    "        c=conn.cursor()\n",
    "        c.execute(create_table_sql)\n",
    "    except Error as e:\n",
    "        print(e)\n",
    "\n",
    "def main():\n",
    "    database = r\"DatabaseProject.db\"\n",
    "\n",
    "    sql_create_student_table = \"\"\" CREATE TABLE IF NOT EXISTS Students (\n",
    "                                        sid integer PRIMARY KEY,\n",
    "                                        name text NOT Null,\n",
    "                                        age integer);\"\"\"\n",
    "    sql_create_enrolled_table = \"\"\"CREATE TABLE IF NOT EXISTS Enrolled (\n",
    "                                        sid integer,\n",
    "                                        grade text,\n",
    "                                        cid integer,\n",
    "                                        FOREIGN KEY (sid) REFERENCES Students (sid)\n",
    "                                        FOREIGN KEY (cid) REFERENCES Courses (cid)\n",
    "                                        );\"\"\"\n",
    "    sql_create_courses_table = \"\"\" CREATE TABLE IF NOT EXISTS Courses (\n",
    "                                        cid integer PRIMARY KEY,\n",
    "                                        cname text,\n",
    "                                        credits integer);\"\"\"\n",
    "    conn = create_connection(database)\n",
    "\n",
    "    if conn is not None:\n",
    "        create_table(conn, sql_create_student_table)\n",
    "        create_table(conn, sql_create_enrolled_table)\n",
    "        create_table(conn, sql_create_courses_table)\n",
    "    else:\n",
    "        print(\"Error!!! Can not create the datebase connection\")\n",
    "\n",
    "if __name__ == '__main__':\n",
    "     main()\n",
    "        \n",
    "def create_student(conn, Students):\n",
    "    sql = ''' INSERT INTO Students(sid, name, age)\n",
    "                VALUES(?,?,?) '''\n",
    "    cur = conn.cursor()\n",
    "    cur.execute(sql, Students)\n",
    "    return cur.lastrowid\n",
    "\n",
    "def main():\n",
    "    database = r\"Databaseproject.db\"\n",
    "    \n",
    "    conn = create_connection(database)\n",
    "    with conn:\n",
    "        Student = ('69420', 'Hugh G. Rection', '69');\n",
    "        Student_id = create_student(conn, Student)\n",
    "\n",
    "if __name__ == '__main__':\n",
    "    main()"
   ]
  },
  {
   "cell_type": "code",
   "execution_count": null,
   "metadata": {},
   "outputs": [],
   "source": []
  },
  {
   "cell_type": "code",
   "execution_count": null,
   "metadata": {},
   "outputs": [],
   "source": []
  }
 ],
 "metadata": {
  "kernelspec": {
   "display_name": "Python 3",
   "language": "python",
   "name": "python3"
  },
  "language_info": {
   "codemirror_mode": {
    "name": "ipython",
    "version": 3
   },
   "file_extension": ".py",
   "mimetype": "text/x-python",
   "name": "python",
   "nbconvert_exporter": "python",
   "pygments_lexer": "ipython3",
   "version": "3.7.4"
  }
 },
 "nbformat": 4,
 "nbformat_minor": 2
}

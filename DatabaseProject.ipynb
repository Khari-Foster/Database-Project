{
 "cells": [
  {
   "cell_type": "code",
   "execution_count": 3,
   "metadata": {},
   "outputs": [
    {
     "name": "stdout",
     "output_type": "stream",
     "text": [
      "Hello World\n"
     ]
    }
   ],
   "source": [
    "print(\"Hello World\")"
   ]
  },
  {
   "cell_type": "code",
   "execution_count": 1,
   "metadata": {},
   "outputs": [
    {
     "name": "stdout",
     "output_type": "stream",
     "text": [
      "2.6.0\n",
      "2.6.0\n",
      "2.6.0\n",
      "Enter your Student ID:  -1\n",
      "Enter New Student's Full Name:  Jake from State Farm\n",
      "Enter New Student's Age:  21\n",
      "Enter a Function:  S\n",
      "Not a valid function\n",
      "Enter a Function:  L\n",
      "List\n",
      "Enter a Function:  X\n",
      "Not a valid function\n"
     ]
    }
   ],
   "source": [
    "import sqlite3\n",
    "import random\n",
    "from sqlite3 import Error\n",
    "\n",
    "def create_connection(db_file):\n",
    "    conn = None\n",
    "    try:\n",
    "        conn = sqlite3.connect(db_file)\n",
    "        print(sqlite3.version)\n",
    "    except Error as e:\n",
    "        print(e)\n",
    "\n",
    "    return conn\n",
    "\n",
    "def create_table(conn, create_table_sql):\n",
    "\n",
    "    try:\n",
    "        c=conn.cursor()\n",
    "        c.execute(create_table_sql)\n",
    "    except Error as e:\n",
    "        print(e)\n",
    "\n",
    "def main():\n",
    "    database = r\"DatabaseProject.db\"\n",
    "\n",
    "    sql_create_student_table = \"\"\" CREATE TABLE IF NOT EXISTS Students (\n",
    "                                        sid integer PRIMARY KEY,\n",
    "                                        name text NOT Null,\n",
    "                                        age integer);\"\"\"\n",
    "    sql_create_enrolled_table = \"\"\"CREATE TABLE IF NOT EXISTS Enrolled (\n",
    "                                        sid integer,\n",
    "                                        grade text,\n",
    "                                        cid integer,\n",
    "                                        FOREIGN KEY (sid) REFERENCES Students (sid)\n",
    "                                        FOREIGN KEY (cid) REFERENCES Courses (cid)\n",
    "                                        );\"\"\"\n",
    "    sql_create_courses_table = \"\"\" CREATE TABLE IF NOT EXISTS Courses (\n",
    "                                        cid integer PRIMARY KEY,\n",
    "                                        cname text,\n",
    "                                        credits integer);\"\"\"\n",
    "    conn = create_connection(database)\n",
    "\n",
    "    if conn is not None:\n",
    "        create_table(conn, sql_create_student_table)\n",
    "        create_table(conn, sql_create_enrolled_table)\n",
    "        create_table(conn, sql_create_courses_table)\n",
    "    else:\n",
    "        print(\"Error!!! Can not create the datebase connection\")\n",
    "\n",
    "if __name__ == '__main__':\n",
    "     main()\n",
    "        \n",
    "def create_student(conn, Students):\n",
    "    sql = ''' INSERT INTO Students(sid, name, age)\n",
    "                VALUES(?,?,?) '''\n",
    "    cur = conn.cursor()\n",
    "    cur.execute(sql, Students)\n",
    "    return cur.lastrowid\n",
    "\n",
    "def main():\n",
    "    database = r\"Databaseproject.db\"\n",
    "    \n",
    "    conn = create_connection(database)\n",
    "    with conn:\n",
    "        Student = ('69420', 'Hugh G. Rection', '69');\n",
    "        #Editted Out the next line as running the program more than once tries to recreate him despite already being in the database\n",
    "        #Student_id = create_student(conn, Student) \n",
    "\n",
    "if __name__ == '__main__':\n",
    "    main()\n",
    "\n",
    "def main():\n",
    "    database = r\"Databaseproject.db\"\n",
    "    conn = create_connection(database)\n",
    "    \n",
    "    student_login = input(\"Enter your Student ID:  \")\n",
    "    #put a while loop here\n",
    "    #need to loop through database sid entries and compare to exit loop\n",
    "    if (student_login == \"-1\"):\n",
    "        student_name = input(\"Enter New Student's Full Name:  \")\n",
    "        student_age = input(\"Enter New Student's Age:  \")\n",
    "        student_sid = random.randrange(1,999999,1)\n",
    "        with conn:\n",
    "            Student = (student_sid, student_name, student_age)\n",
    "            Student_id = create_student(conn, Student)\n",
    "\n",
    "if __name__ == '__main__':\n",
    "    main()\n",
    "\n",
    "def switchStatement(argument):\n",
    "    \n",
    "    def List():\n",
    "        return \"List\"\n",
    "    def Enroll():\n",
    "        return \"Enroll\"\n",
    "    def Withdraw():\n",
    "        return \"Withdraw\"\n",
    "    def Search():\n",
    "        return \"Search\"\n",
    "    def MyClasses():\n",
    "        return \"My Classes\"\n",
    "    def Exit():\n",
    "        return \"Exit\"\n",
    "    \n",
    "    switcher = {\n",
    "        'L': List(),\n",
    "        'E': Enroll(),\n",
    "        'W': Withdraw(),\n",
    "        'S': Search(),\n",
    "        'M': MyClasses(),\n",
    "        'X': Exit(),\n",
    "    }\n",
    "    \n",
    "    return switcher.get(argument, \"Not a valid function\")\n",
    "\n",
    "def main():\n",
    "    a = 'A'\n",
    "    while (a != 'X'):\n",
    "        a = input(\"Enter a Function:  \")\n",
    "        print(switchStatement(a))\n",
    "\n",
    "if __name__ == '__main__':\n",
    "    main()"
   ]
  },
  {
   "cell_type": "code",
   "execution_count": 25,
   "metadata": {},
   "outputs": [
    {
     "name": "stdout",
     "output_type": "stream",
     "text": [
      "34\n"
     ]
    }
   ],
   "source": [
    "import random\n",
    "a = random.randrange(20,50,1)\n",
    "print(a)"
   ]
  },
  {
   "cell_type": "code",
   "execution_count": null,
   "metadata": {},
   "outputs": [],
   "source": []
  },
  {
   "cell_type": "code",
   "execution_count": null,
   "metadata": {},
   "outputs": [],
   "source": []
  }
 ],
 "metadata": {
  "kernelspec": {
   "display_name": "Python 3",
   "language": "python",
   "name": "python3"
  },
  "language_info": {
   "codemirror_mode": {
    "name": "ipython",
    "version": 3
   },
   "file_extension": ".py",
   "mimetype": "text/x-python",
   "name": "python",
   "nbconvert_exporter": "python",
   "pygments_lexer": "ipython3",
   "version": "3.7.4"
  }
 },
 "nbformat": 4,
 "nbformat_minor": 2
}
